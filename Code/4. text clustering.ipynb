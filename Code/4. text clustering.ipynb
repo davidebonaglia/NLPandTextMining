{
 "cells": [
  {
   "cell_type": "markdown",
   "metadata": {},
   "source": [
    "# Text Clustering and Topic Modeling\n",
    "\n",
    "Data: **BBC Sport data** - the data set consits of 737 documents from the BBC Sport website and corresponds to sport news articles from 2004-2005 in five topics:\n",
    "- athletics\n",
    "- cricket\n",
    "- football \n",
    "- rugby \n",
    "- tennis"
   ]
  },
  {
   "cell_type": "code",
   "execution_count": 1,
   "metadata": {},
   "outputs": [],
   "source": [
    "from sklearn.datasets import load_files\n",
    "import pandas as pd\n",
    "import numpy as np\n",
    "\n",
    "from sklearn.feature_extraction.text import TfidfVectorizer\n",
    "\n",
    "from sklearn.decomposition import PCA\n",
    "import matplotlib.pyplot as plt\n",
    "\n",
    "from sklearn.cluster import MiniBatchKMeans\n",
    "from sklearn.cluster import AgglomerativeClustering\n",
    "from scipy.cluster.hierarchy import dendrogram\n",
    "\n",
    "from sklearn import metrics\n",
    "\n",
    "from sklearn.decomposition import NMF\n",
    "from sklearn.decomposition import LatentDirichletAllocation"
   ]
  },
  {
   "cell_type": "code",
   "execution_count": 2,
   "metadata": {},
   "outputs": [
    {
     "data": {
      "text/html": [
       "<div>\n",
       "<style scoped>\n",
       "    .dataframe tbody tr th:only-of-type {\n",
       "        vertical-align: middle;\n",
       "    }\n",
       "\n",
       "    .dataframe tbody tr th {\n",
       "        vertical-align: top;\n",
       "    }\n",
       "\n",
       "    .dataframe thead th {\n",
       "        text-align: right;\n",
       "    }\n",
       "</style>\n",
       "<table border=\"1\" class=\"dataframe\">\n",
       "  <thead>\n",
       "    <tr style=\"text-align: right;\">\n",
       "      <th></th>\n",
       "      <th>text</th>\n",
       "      <th>label</th>\n",
       "    </tr>\n",
       "  </thead>\n",
       "  <tbody>\n",
       "    <tr>\n",
       "      <th>0</th>\n",
       "      <td>Scotland v Italy (Sat)\\n\\nMurrayfield, Edinbur...</td>\n",
       "      <td>3</td>\n",
       "    </tr>\n",
       "    <tr>\n",
       "      <th>1</th>\n",
       "      <td>Wales silent on Grand Slam talk\\n\\nRhys Willia...</td>\n",
       "      <td>3</td>\n",
       "    </tr>\n",
       "    <tr>\n",
       "      <th>2</th>\n",
       "      <td>Arsenal 1-1 Sheff Utd\\n\\nAndy Gray's 90th-minu...</td>\n",
       "      <td>2</td>\n",
       "    </tr>\n",
       "    <tr>\n",
       "      <th>3</th>\n",
       "      <td>Cole refuses to blame van Persie\\n\\nAshley Col...</td>\n",
       "      <td>2</td>\n",
       "    </tr>\n",
       "    <tr>\n",
       "      <th>4</th>\n",
       "      <td>Van Nistelrooy hungry for return\\n\\nManchester...</td>\n",
       "      <td>2</td>\n",
       "    </tr>\n",
       "    <tr>\n",
       "      <th>...</th>\n",
       "      <td>...</td>\n",
       "      <td>...</td>\n",
       "    </tr>\n",
       "    <tr>\n",
       "      <th>732</th>\n",
       "      <td>England claim historic series win\\n\\nFifth Tes...</td>\n",
       "      <td>1</td>\n",
       "    </tr>\n",
       "    <tr>\n",
       "      <th>733</th>\n",
       "      <td>Henry tipped for Fifa award\\n\\nFifa president ...</td>\n",
       "      <td>2</td>\n",
       "    </tr>\n",
       "    <tr>\n",
       "      <th>734</th>\n",
       "      <td>Philippoussis doubt over Open bid\\n\\nMark Phil...</td>\n",
       "      <td>4</td>\n",
       "    </tr>\n",
       "    <tr>\n",
       "      <th>735</th>\n",
       "      <td>India's top six secure - Ganguly\\n\\nCaptain So...</td>\n",
       "      <td>1</td>\n",
       "    </tr>\n",
       "    <tr>\n",
       "      <th>736</th>\n",
       "      <td>Harinordoquy suffers France axe\\n\\nNumber eigh...</td>\n",
       "      <td>3</td>\n",
       "    </tr>\n",
       "  </tbody>\n",
       "</table>\n",
       "<p>737 rows × 2 columns</p>\n",
       "</div>"
      ],
      "text/plain": [
       "                                                  text  label\n",
       "0    Scotland v Italy (Sat)\\n\\nMurrayfield, Edinbur...      3\n",
       "1    Wales silent on Grand Slam talk\\n\\nRhys Willia...      3\n",
       "2    Arsenal 1-1 Sheff Utd\\n\\nAndy Gray's 90th-minu...      2\n",
       "3    Cole refuses to blame van Persie\\n\\nAshley Col...      2\n",
       "4    Van Nistelrooy hungry for return\\n\\nManchester...      2\n",
       "..                                                 ...    ...\n",
       "732  England claim historic series win\\n\\nFifth Tes...      1\n",
       "733  Henry tipped for Fifa award\\n\\nFifa president ...      2\n",
       "734  Philippoussis doubt over Open bid\\n\\nMark Phil...      4\n",
       "735  India's top six secure - Ganguly\\n\\nCaptain So...      1\n",
       "736  Harinordoquy suffers France axe\\n\\nNumber eigh...      3\n",
       "\n",
       "[737 rows x 2 columns]"
      ]
     },
     "execution_count": 2,
     "metadata": {},
     "output_type": "execute_result"
    }
   ],
   "source": [
    "random_state = 321 \n",
    "#The random_state parameter ensures that the data is shuffled in a reproducible way if it's set to a fixed number.\n",
    "\n",
    "DATA_DIR = \"/Users/davidebonaglia/Dropbox/PhD NOTES/COURSES/Utretch Summer School/Tuesday/bbcsport-fulltext/bbcsport\"\n",
    "data = load_files(DATA_DIR, encoding=\"utf-8\", decode_error=\"replace\", random_state=random_state)\n",
    "df = pd.DataFrame(list(zip(data['data'], data['target'])), columns=['text', 'label'])\n",
    "df"
   ]
  },
  {
   "cell_type": "code",
   "execution_count": 3,
   "metadata": {},
   "outputs": [
    {
     "name": "stdout",
     "output_type": "stream",
     "text": [
      "{'athletics': 101, 'cricket': 124, 'football': 265, 'rugby': 147, 'tennis': 100}\n"
     ]
    }
   ],
   "source": [
    "labels, counts = np.unique(df['label'], return_counts=True)\n",
    "print(dict(zip(data.target_names, counts)))"
   ]
  },
  {
   "cell_type": "code",
   "execution_count": 4,
   "metadata": {},
   "outputs": [
    {
     "data": {
      "text/plain": [
       "['athletics', 'cricket', 'football', 'rugby', 'tennis']"
      ]
     },
     "execution_count": 4,
     "metadata": {},
     "output_type": "execute_result"
    }
   ],
   "source": [
    "data.target_names"
   ]
  },
  {
   "cell_type": "markdown",
   "metadata": {},
   "source": [
    "For text clustering and topic modeling, we will ignore the labels but we will use them while evaluating models. \n",
    "We will create a copied dataframe removing the outcome variable."
   ]
  },
  {
   "cell_type": "code",
   "execution_count": 5,
   "metadata": {},
   "outputs": [
    {
     "data": {
      "text/html": [
       "<div>\n",
       "<style scoped>\n",
       "    .dataframe tbody tr th:only-of-type {\n",
       "        vertical-align: middle;\n",
       "    }\n",
       "\n",
       "    .dataframe tbody tr th {\n",
       "        vertical-align: top;\n",
       "    }\n",
       "\n",
       "    .dataframe thead th {\n",
       "        text-align: right;\n",
       "    }\n",
       "</style>\n",
       "<table border=\"1\" class=\"dataframe\">\n",
       "  <thead>\n",
       "    <tr style=\"text-align: right;\">\n",
       "      <th></th>\n",
       "      <th>text</th>\n",
       "    </tr>\n",
       "  </thead>\n",
       "  <tbody>\n",
       "    <tr>\n",
       "      <th>0</th>\n",
       "      <td>Scotland v Italy (Sat)\\n\\nMurrayfield, Edinbur...</td>\n",
       "    </tr>\n",
       "    <tr>\n",
       "      <th>1</th>\n",
       "      <td>Wales silent on Grand Slam talk\\n\\nRhys Willia...</td>\n",
       "    </tr>\n",
       "    <tr>\n",
       "      <th>2</th>\n",
       "      <td>Arsenal 1-1 Sheff Utd\\n\\nAndy Gray's 90th-minu...</td>\n",
       "    </tr>\n",
       "    <tr>\n",
       "      <th>3</th>\n",
       "      <td>Cole refuses to blame van Persie\\n\\nAshley Col...</td>\n",
       "    </tr>\n",
       "    <tr>\n",
       "      <th>4</th>\n",
       "      <td>Van Nistelrooy hungry for return\\n\\nManchester...</td>\n",
       "    </tr>\n",
       "  </tbody>\n",
       "</table>\n",
       "</div>"
      ],
      "text/plain": [
       "                                                text\n",
       "0  Scotland v Italy (Sat)\\n\\nMurrayfield, Edinbur...\n",
       "1  Wales silent on Grand Slam talk\\n\\nRhys Willia...\n",
       "2  Arsenal 1-1 Sheff Utd\\n\\nAndy Gray's 90th-minu...\n",
       "3  Cole refuses to blame van Persie\\n\\nAshley Col...\n",
       "4  Van Nistelrooy hungry for return\\n\\nManchester..."
      ]
     },
     "execution_count": 5,
     "metadata": {},
     "output_type": "execute_result"
    }
   ],
   "source": [
    "bbcsport_text = pd.DataFrame(df['text'])\n",
    "bbcsport_text.head()"
   ]
  },
  {
   "cell_type": "markdown",
   "metadata": {},
   "source": [
    "We will apply the following pre-processing steps:\n",
    "- convert to lower\n",
    "- remove stop words\n",
    "- remove numbers\n",
    "- extract uni- and bi-grams\n",
    "- remove terms that occur in less than 2 documents\n",
    "- remove one-letter terms, e.g.'a', or 's'\n",
    "\n",
    "And then convert the data to a dataframe of document-term matrix with term frequencies"
   ]
  },
  {
   "cell_type": "code",
   "execution_count": 6,
   "metadata": {},
   "outputs": [
    {
     "data": {
      "text/plain": [
       "(737, 21604)"
      ]
     },
     "execution_count": 6,
     "metadata": {},
     "output_type": "execute_result"
    }
   ],
   "source": [
    "tfidf_vectorizer = TfidfVectorizer(stop_words='english', \n",
    "                                   lowercase=True,\n",
    "                                   min_df=2,\n",
    "                                   ngram_range=(1,2), \n",
    "                                   token_pattern=r'(?u)\\b[A-Za-z][A-Za-z]+\\b')\n",
    "tfidf_vectorizer.fit(df.text.values)\n",
    "tfidf_matrix = tfidf_vectorizer.transform(df.text.values)\n",
    "tfidf_matrix.shape"
   ]
  },
  {
   "cell_type": "code",
   "execution_count": 8,
   "metadata": {
    "scrolled": true
   },
   "outputs": [],
   "source": [
    "# tfidf_vectorizer.vocabulary_"
   ]
  },
  {
   "cell_type": "markdown",
   "metadata": {},
   "source": [
    "## K-Means clustering\n",
    "\n",
    "Since the data set contains articles that belong to one of the 5 categories, we set the number of clusters at 5"
   ]
  },
  {
   "cell_type": "code",
   "execution_count": 9,
   "metadata": {},
   "outputs": [
    {
     "data": {
      "text/plain": [
       "MiniBatchKMeans(n_clusters=5, random_state=321)"
      ]
     },
     "execution_count": 9,
     "metadata": {},
     "output_type": "execute_result"
    }
   ],
   "source": [
    "n_clusters = 5\n",
    "cls = MiniBatchKMeans(n_clusters=n_clusters, random_state=random_state)\n",
    "cls.fit(tfidf_matrix)"
   ]
  },
  {
   "cell_type": "markdown",
   "metadata": {},
   "source": [
    "### top terms in each cluster"
   ]
  },
  {
   "cell_type": "code",
   "execution_count": 10,
   "metadata": {},
   "outputs": [
    {
     "name": "stdout",
     "output_type": "stream",
     "text": [
      "Top terms per cluster:\n",
      "Cluster 0: cricket/ pakistan/ series/ australia/ test/ india/ sri/ day/ zealand/ new zealand/\n",
      "Cluster 1: england/ south/ vaughan/ south africa/ africa/ test/ strauss/ jones/ overs/ day/\n",
      "Cluster 2: said/ chelsea/ club/ united/ arsenal/ game/ league/ cup/ liverpool/ players/\n",
      "Cluster 3: olympic/ indoor/ holmes/ race/ world/ champion/ athletics/ athens/ european/ marathon/\n",
      "Cluster 4: england/ wales/ ireland/ rugby/ france/ nations/ robinson/ half/ scotland/ coach/\n"
     ]
    }
   ],
   "source": [
    "print(\"Top terms per cluster:\")\n",
    "\n",
    "order_centroids = cls.cluster_centers_.argsort()[:, ::-1]\n",
    "terms = tfidf_vectorizer.get_feature_names()\n",
    "for i in range(n_clusters):\n",
    "    print(\"Cluster %d:\" % i, end='')\n",
    "    for ind in order_centroids[i, :10]:\n",
    "        print(' %s/' % terms[ind], end='')\n",
    "    print()\n",
    "\n",
    "#https://scikit-learn.org/stable/auto_examples/text/plot_document_clustering.html"
   ]
  },
  {
   "cell_type": "markdown",
   "metadata": {},
   "source": [
    "### Graphically visualizing the output"
   ]
  },
  {
   "cell_type": "code",
   "execution_count": 11,
   "metadata": {},
   "outputs": [
    {
     "data": {
      "text/plain": [
       "<matplotlib.collections.PathCollection at 0x7f8f0662aac0>"
      ]
     },
     "execution_count": 11,
     "metadata": {},
     "output_type": "execute_result"
    },
    {
     "data": {
      "image/png": "[encoded data removed]",
      "text/plain": [
       "<Figure size 432x288 with 1 Axes>"
      ]
     },
     "metadata": {
      "needs_background": "light"
     },
     "output_type": "display_data"
    }
   ],
   "source": [
    "# reduce the features to 2D\n",
    "pca = PCA(n_components=2, random_state=random_state)\n",
    "reduced_features = pca.fit_transform(tfidf_matrix.toarray())\n",
    "\n",
    "# reduce the cluster centers to 2D\n",
    "reduced_cluster_centers = pca.transform(cls.cluster_centers_)\n",
    "\n",
    "plt.scatter(reduced_features[:,0], reduced_features[:,1], c=cls.predict(tfidf_matrix))\n",
    "plt.scatter(reduced_cluster_centers[:, 0], reduced_cluster_centers[:,1], marker='X', s=150, c='b')"
   ]
  },
  {
   "cell_type": "markdown",
   "metadata": {},
   "source": [
    "### Evaluation of K-Means clustering\n",
    "\n",
    "We will evaluate the quality of the K-Means clustering with the sklearn metrics for clustering: \n",
    "- homogeneity_score, \n",
    "- completeness_score, \n",
    "- v_measure_score, \n",
    "- adjusted_rand_score, \n",
    "- silhouette_score."
   ]
  },
  {
   "cell_type": "code",
   "execution_count": 12,
   "metadata": {},
   "outputs": [
    {
     "name": "stdout",
     "output_type": "stream",
     "text": [
      "Homogeneity: 0.668\n",
      "Completeness: 0.784\n",
      "V-measure: 0.722\n",
      "Adjusted Rand-Index: 0.600\n",
      "Silhouette Coefficient: 0.014\n"
     ]
    }
   ],
   "source": [
    "print(\"Homogeneity: %0.3f\" % metrics.homogeneity_score(data.target, cls.labels_))\n",
    "print(\"Completeness: %0.3f\" % metrics.completeness_score(data.target, cls.labels_))\n",
    "print(\"V-measure: %0.3f\" % metrics.v_measure_score(data.target, cls.labels_))\n",
    "print(\"Adjusted Rand-Index: %.3f\" % metrics.adjusted_rand_score(data.target, cls.labels_))\n",
    "print(\"Silhouette Coefficient: %0.3f\" % metrics.silhouette_score(tfidf_matrix, cls.labels_, sample_size=1000))"
   ]
  },
  {
   "cell_type": "markdown",
   "metadata": {},
   "source": [
    "### Expand number of clusters\n",
    "\n",
    "We will apply the K-Means clustering method on a range of 3 to 7 clusters, and calculate the squared loss obtained in each clustering. Apply the Elbow method to find the optimal k."
   ]
  },
  {
   "cell_type": "code",
   "execution_count": 13,
   "metadata": {},
   "outputs": [],
   "source": [
    "num_clus = [x for x in range(3, 7)]\n",
    "squared_errors = []\n",
    "\n",
    "for cluster in num_clus:\n",
    "    cls = MiniBatchKMeans(n_clusters=cluster, random_state=random_state)\n",
    "    \n",
    "    # Train Clusters\n",
    "    cls.fit(tfidf_matrix) \n",
    "    \n",
    "    # Appending the squared loss obtained in the list\n",
    "    squared_errors.append(cls.inertia_) "
   ]
  },
  {
   "cell_type": "markdown",
   "metadata": {},
   "source": [
    "We can choose the best cluster with the **Elbow Method**: https://www.kaggle.com/karthik3890/text-clustering\n",
    "\n",
    "The Elbow Method is a graphical representation of finding the optimal k in a K-means clustering. It works by finding WCSS (Within-Cluster Sum of Square) i.e. the sum of the square distance between points in a cluster and the cluster centroid."
   ]
  },
  {
   "cell_type": "code",
   "execution_count": 15,
   "metadata": {},
   "outputs": [
    {
     "data": {
      "image/png": "[encoded data removed]",
      "text/plain": [
       "<Figure size 432x288 with 1 Axes>"
      ]
     },
     "metadata": {
      "needs_background": "light"
     },
     "output_type": "display_data"
    },
    {
     "name": "stdout",
     "output_type": "stream",
     "text": [
      "The optimal number of clusters obtained is - 5\n",
      "The loss for optimal cluster is - 691.396916630931\n"
     ]
    }
   ],
   "source": [
    "optimal_clusters = np.argmin(squared_errors) + 2 \n",
    "plt.plot(num_clus, squared_errors)\n",
    "plt.title(\"Elbow Curve to find the no. of clusters.\")\n",
    "plt.xlabel(\"Number of clusters.\")\n",
    "plt.ylabel(\"Squared Loss.\")\n",
    "xy = (optimal_clusters, min(squared_errors))\n",
    "plt.annotate('(%s, %s)' % xy, xy = xy, textcoords='data')\n",
    "plt.show()\n",
    "\n",
    "print (\"The optimal number of clusters obtained is -\", optimal_clusters)\n",
    "print (\"The loss for optimal cluster is -\", min(squared_errors))"
   ]
  },
  {
   "cell_type": "markdown",
   "metadata": {},
   "source": [
    "Use the following two news articles as your test data, and predict cluster labels for your new data set with the best value for K and the K-Means algorithm."
   ]
  },
  {
   "cell_type": "code",
   "execution_count": 17,
   "metadata": {},
   "outputs": [
    {
     "data": {
      "text/plain": [
       "['Frank de Boer out as Oranje manager after early Euro 2020 exit Dutch men’s football team coach.',\n",
       " 'The time has come for Nadal to be selective in the events that he should and should not play. This is where he can start the difficulty. After a rigorous participation of the clay season, Rafael Nadal definitely wants to conserve his energies for as long as possible.']"
      ]
     },
     "execution_count": 17,
     "metadata": {},
     "output_type": "execute_result"
    }
   ],
   "source": [
    "documents = ['Frank de Boer out as Oranje manager after early Euro 2020 exit Dutch men’s football team coach.',\n",
    "             'The time has come for Nadal to be selective in the events that he should and should not play. This is where he can start the difficulty. After a rigorous participation of the clay season, Rafael Nadal definitely wants to conserve his energies for as long as possible.']\n",
    "\n",
    "documents"
   ]
  },
  {
   "cell_type": "code",
   "execution_count": 18,
   "metadata": {},
   "outputs": [
    {
     "data": {
      "text/plain": [
       "MiniBatchKMeans(n_clusters=5, random_state=321)"
      ]
     },
     "execution_count": 18,
     "metadata": {},
     "output_type": "execute_result"
    }
   ],
   "source": [
    "n_clusters = 5\n",
    "cls = MiniBatchKMeans(n_clusters=n_clusters, random_state=random_state)\n",
    "cls.fit(tfidf_matrix)"
   ]
  },
  {
   "cell_type": "code",
   "execution_count": 19,
   "metadata": {},
   "outputs": [
    {
     "data": {
      "text/plain": [
       "(2, 21604)"
      ]
     },
     "execution_count": 19,
     "metadata": {},
     "output_type": "execute_result"
    }
   ],
   "source": [
    "tfidf_test = tfidf_vectorizer.transform(documents)\n",
    "tfidf_test.shape"
   ]
  },
  {
   "cell_type": "code",
   "execution_count": 20,
   "metadata": {},
   "outputs": [
    {
     "name": "stdout",
     "output_type": "stream",
     "text": [
      "[2 2]\n"
     ]
    }
   ],
   "source": [
    "print(cls.predict(tfidf_test))\n",
    "\n",
    "#they both belong to cluster number 2 (even though the second text is about tennis)"
   ]
  },
  {
   "cell_type": "markdown",
   "metadata": {},
   "source": [
    "## Hierarchical clustering\n",
    "\n",
    "Hierarchical clustering is a type of unsupervised machine learning algorithm used to cluster unlabeled data points. \n",
    "\n",
    "Similar to the K-Means clustering, hierarchical clustering groups together the data points with similar characteristics. \n",
    "\n",
    "Fit the model with 5 clusters and check the predicted labels."
   ]
  },
  {
   "cell_type": "code",
   "execution_count": 21,
   "metadata": {},
   "outputs": [],
   "source": [
    "# affinity='euclidean'\n",
    "cls2 = AgglomerativeClustering(n_clusters=5, affinity='euclidean', linkage='ward') \n",
    "\n",
    "cls2 = cls2.fit(tfidf_matrix.toarray())"
   ]
  },
  {
   "cell_type": "code",
   "execution_count": 23,
   "metadata": {},
   "outputs": [],
   "source": [
    "#cls2.labels_"
   ]
  },
  {
   "cell_type": "markdown",
   "metadata": {},
   "source": [
    "Plot endrogram for the hierarchical clustering"
   ]
  },
  {
   "cell_type": "code",
   "execution_count": 24,
   "metadata": {},
   "outputs": [],
   "source": [
    "def plot_dendrogram(model, **kwargs):\n",
    "    # Create linkage matrix and then plot the dendrogram\n",
    "\n",
    "    # create the counts of samples under each node\n",
    "    counts = np.zeros(model.children_.shape[0])\n",
    "    n_samples = len(model.labels_)\n",
    "    for i, merge in enumerate(model.children_):\n",
    "        current_count = 0\n",
    "        for child_idx in merge:\n",
    "            if child_idx < n_samples:\n",
    "                current_count += 1  # leaf node\n",
    "            else:\n",
    "                current_count += counts[child_idx - n_samples]\n",
    "        counts[i] = current_count\n",
    "\n",
    "    linkage_matrix = np.column_stack([model.children_, model.distances_,\n",
    "                                      counts]).astype(float)\n",
    "\n",
    "    # Plot the corresponding dendrogram\n",
    "    dendrogram(linkage_matrix, **kwargs)"
   ]
  },
  {
   "cell_type": "code",
   "execution_count": 25,
   "metadata": {},
   "outputs": [
    {
     "data": {
      "image/png": "[encoded data removed]",
      "text/plain": [
       "<Figure size 432x288 with 1 Axes>"
      ]
     },
     "metadata": {
      "needs_background": "light"
     },
     "output_type": "display_data"
    }
   ],
   "source": [
    "# setting distance_threshold=0 ensures we compute the full tree.\n",
    "cls2 = AgglomerativeClustering(n_clusters=None, affinity='euclidean', linkage='ward', distance_threshold=0)\n",
    "cls2 = cls2.fit(tfidf_matrix.toarray())\n",
    "\n",
    "plt.title('Hierarchical Clustering Dendrogram')\n",
    "\n",
    "# plot the top three levels of the dendrogram\n",
    "plot_dendrogram(cls2, truncate_mode='level', p=5)\n",
    "plt.xlabel(\"Number of points in node (or index of point if no parenthesis).\")\n",
    "plt.show()"
   ]
  },
  {
   "cell_type": "code",
   "execution_count": 26,
   "metadata": {},
   "outputs": [
    {
     "data": {
      "image/png": "[encoded data removed]",
      "text/plain": [
       "<Figure size 5040x3600 with 1 Axes>"
      ]
     },
     "metadata": {
      "needs_background": "light"
     },
     "output_type": "display_data"
    }
   ],
   "source": [
    "# here is another way of plotting the hc using the scipy library \n",
    "\n",
    "import scipy.cluster.hierarchy as shc\n",
    "\n",
    "plt.figure(figsize=(70, 50))\n",
    "plt.title(\"Tfidf dendogram for hierarchical clustering\")\n",
    "dend = shc.dendrogram(shc.linkage(tfidf_matrix.toarray(), method='ward'))"
   ]
  },
  {
   "cell_type": "markdown",
   "metadata": {},
   "source": [
    "Not very clear though :)"
   ]
  },
  {
   "cell_type": "markdown",
   "metadata": {},
   "source": [
    "## Topic modeling\n",
    "\n",
    "Topic modeling is another unsupervised method for text mining applications where we want to get an idea of what topics we have in our data set. **A topic is a collection of words that describe the overall theme**.\n",
    "\n",
    "For example, in case of news articles, you might think of topics as the categories in the data set. \n",
    "Just like clustering algorithms, there are some algorithms that need you to specify the number of topics you want to extract from the data set and some that automatically determine the number of topics. \n",
    "\n",
    "Here, we will be using the Non-Negative Matrix Factorization (NMF) and Latent Dirichlet Allocation (LDA) methods for topic modeling. "
   ]
  },
  {
   "cell_type": "markdown",
   "metadata": {},
   "source": [
    "### NMF model"
   ]
  },
  {
   "cell_type": "code",
   "execution_count": 27,
   "metadata": {},
   "outputs": [
    {
     "data": {
      "text/plain": [
       "NMF(n_components=5, random_state=321)"
      ]
     },
     "execution_count": 27,
     "metadata": {},
     "output_type": "execute_result"
    }
   ],
   "source": [
    "# number of topics to extract\n",
    "n_topics = 5\n",
    "\n",
    "nmf = NMF(n_components=n_topics, random_state=random_state)\n",
    "nmf.fit(tfidf_matrix)"
   ]
  },
  {
   "cell_type": "markdown",
   "metadata": {},
   "source": [
    "Top 10 words per topic with their probabilities"
   ]
  },
  {
   "cell_type": "code",
   "execution_count": 28,
   "metadata": {},
   "outputs": [
    {
     "name": "stdout",
     "output_type": "stream",
     "text": [
      "Top 10 words for topic #0:\n",
      "['champions league', 'cup', 'said', 'mourinho', 'club', 'liverpool', 'united', 'league', 'arsenal', 'chelsea']\n",
      "\n",
      "\n",
      "Top 10 words for topic #1:\n",
      "['england', 'africa', 'india', 'south africa', 'day', 'south', 'series', 'pakistan', 'cricket', 'test']\n",
      "\n",
      "\n",
      "Top 10 words for topic #2:\n",
      "['olympic', 'final', 'seed', 'set', 'race', 'indoor', 'year', 'champion', 'open', 'world']\n",
      "\n",
      "\n",
      "Top 10 words for topic #3:\n",
      "['game', 'scotland', 'half', 'nations', 'france', 'rugby', 'robinson', 'ireland', 'wales', 'england']\n",
      "\n",
      "\n",
      "Top 10 words for topic #4:\n",
      "['charges', 'athletics', 'olympics', 'doping', 'athens', 'drugs', 'iaaf', 'thanou', 'greek', 'kenteris']\n",
      "\n",
      "\n"
     ]
    }
   ],
   "source": [
    "for i, topic in enumerate(nmf.components_):\n",
    "    print(f'Top 10 words for topic #{i}:')\n",
    "    print([tfidf_vectorizer.get_feature_names()[i] for i in topic.argsort()[-10:]])\n",
    "    print('\\n')"
   ]
  },
  {
   "cell_type": "markdown",
   "metadata": {},
   "source": [
    "Now, we will use the NMF model to identify the topic (or cluster) of a the new texts in the documents object. \n",
    "We then choose the topic with the highest score to determine documents' topics\n",
    "\n",
    "\n",
    "first transform the text into features using tfidf_vectorizer then pass it to transform of nmf\n",
    "the result will be a matrix of shape [2, 10] then we sort the topic id based on the score using argsort\n",
    "and take the last one (with the highest score) for each row using `[:,-1]` indexing"
   ]
  },
  {
   "cell_type": "code",
   "execution_count": 29,
   "metadata": {},
   "outputs": [
    {
     "name": "stdout",
     "output_type": "stream",
     "text": [
      "[[0.03102346 0.00036267 0.01099815 0.00809537 0.00311989]\n",
      " [0.01549877 0.00264124 0.03429618 0.00092925 0.        ]]\n"
     ]
    },
    {
     "data": {
      "text/plain": [
       "array([0, 2])"
      ]
     },
     "execution_count": 29,
     "metadata": {},
     "output_type": "execute_result"
    }
   ],
   "source": [
    "print(nmf.transform(tfidf_vectorizer.transform(documents)))\n",
    "nmf.transform(tfidf_vectorizer.transform(documents)).argsort(axis=1)[:,-1]"
   ]
  },
  {
   "cell_type": "markdown",
   "metadata": {},
   "source": [
    "First documnt belongs to topic 0: football\n",
    "Second document belongs to topic2 : tennis\n",
    "\n",
    "**That's better than before**"
   ]
  },
  {
   "cell_type": "markdown",
   "metadata": {},
   "source": [
    "### LDA Model\n",
    "\n",
    "The LDA is based upon two general assumptions:\n",
    "- Documents exhibit multiple topics\n",
    "- A topic is a distribution over a fixed vocabulary\n",
    "\n",
    "\n",
    "We will train a LDA model from the sklearn package for topic modeling with 5 components"
   ]
  },
  {
   "cell_type": "code",
   "execution_count": 30,
   "metadata": {},
   "outputs": [
    {
     "data": {
      "text/plain": [
       "LatentDirichletAllocation(evaluate_every=10, n_components=5, random_state=321)"
      ]
     },
     "execution_count": 30,
     "metadata": {},
     "output_type": "execute_result"
    }
   ],
   "source": [
    "LDA = LatentDirichletAllocation(n_components=5, random_state=321, evaluate_every=10)\n",
    "LDA.fit(tfidf_matrix)"
   ]
  },
  {
   "cell_type": "code",
   "execution_count": 31,
   "metadata": {},
   "outputs": [
    {
     "name": "stdout",
     "output_type": "stream",
     "text": [
      "Top 10 words for topic #0:\n",
      "['play', 'cup', 'players', 'team', 'win', 'world', 'year', 'game', 'england', 'said']\n",
      "\n",
      "\n",
      "Top 10 words for topic #1:\n",
      "['maurice', 'holmes', 'capriati', 'mauresmo', 'isinbayeva', 'sharapova', 'greene', 'lewis francis', 'francis', 'mirza']\n",
      "\n",
      "\n",
      "Top 10 words for topic #2:\n",
      "['gregory lamboley', 'imanol', 'half replacement', 'valbon', 'harinordoquy', 'stade', 'bortolami', 'bourgoin', 'toulousain', 'stade toulousain']\n",
      "\n",
      "\n",
      "Top 10 words for topic #3:\n",
      "['tribunal', 'charges', 'balco', 'conte', 'drugs', 'doping', 'thanou', 'greek', 'iaaf', 'kenteris']\n",
      "\n",
      "\n",
      "Top 10 words for topic #4:\n",
      "['money women', 'rod', 'aus', 'ind', 'pattaya', 'prize money', 'kafer', 'martinez', 'umaga', 'hingis']\n",
      "\n",
      "\n"
     ]
    }
   ],
   "source": [
    "for i,topic in enumerate(LDA.components_):\n",
    "    print(f'Top 10 words for topic #{i}:')\n",
    "    print([tfidf_vectorizer.get_feature_names()[i] for i in topic.argsort()[-10:]])\n",
    "    print('\\n')"
   ]
  },
  {
   "cell_type": "code",
   "execution_count": 32,
   "metadata": {},
   "outputs": [
    {
     "data": {
      "text/html": [
       "<div>\n",
       "<style scoped>\n",
       "    .dataframe tbody tr th:only-of-type {\n",
       "        vertical-align: middle;\n",
       "    }\n",
       "\n",
       "    .dataframe tbody tr th {\n",
       "        vertical-align: top;\n",
       "    }\n",
       "\n",
       "    .dataframe thead th {\n",
       "        text-align: right;\n",
       "    }\n",
       "</style>\n",
       "<table border=\"1\" class=\"dataframe\">\n",
       "  <thead>\n",
       "    <tr style=\"text-align: right;\">\n",
       "      <th></th>\n",
       "      <th>Topic 0 words</th>\n",
       "      <th>Topic 0 weights</th>\n",
       "      <th>Topic 1 words</th>\n",
       "      <th>Topic 1 weights</th>\n",
       "      <th>Topic 2 words</th>\n",
       "      <th>Topic 2 weights</th>\n",
       "      <th>Topic 3 words</th>\n",
       "      <th>Topic 3 weights</th>\n",
       "      <th>Topic 4 words</th>\n",
       "      <th>Topic 4 weights</th>\n",
       "    </tr>\n",
       "  </thead>\n",
       "  <tbody>\n",
       "    <tr>\n",
       "      <th>0</th>\n",
       "      <td>said</td>\n",
       "      <td>21.1</td>\n",
       "      <td>mirza</td>\n",
       "      <td>2.2</td>\n",
       "      <td>stade toulousain</td>\n",
       "      <td>1.0</td>\n",
       "      <td>kenteris</td>\n",
       "      <td>3.5</td>\n",
       "      <td>hingis</td>\n",
       "      <td>1.0</td>\n",
       "    </tr>\n",
       "    <tr>\n",
       "      <th>1</th>\n",
       "      <td>england</td>\n",
       "      <td>18.2</td>\n",
       "      <td>francis</td>\n",
       "      <td>2.0</td>\n",
       "      <td>toulousain</td>\n",
       "      <td>1.0</td>\n",
       "      <td>iaaf</td>\n",
       "      <td>3.1</td>\n",
       "      <td>umaga</td>\n",
       "      <td>1.0</td>\n",
       "    </tr>\n",
       "    <tr>\n",
       "      <th>2</th>\n",
       "      <td>game</td>\n",
       "      <td>13.8</td>\n",
       "      <td>lewis francis</td>\n",
       "      <td>2.0</td>\n",
       "      <td>bourgoin</td>\n",
       "      <td>0.6</td>\n",
       "      <td>greek</td>\n",
       "      <td>3.1</td>\n",
       "      <td>martinez</td>\n",
       "      <td>0.9</td>\n",
       "    </tr>\n",
       "    <tr>\n",
       "      <th>3</th>\n",
       "      <td>year</td>\n",
       "      <td>13.6</td>\n",
       "      <td>greene</td>\n",
       "      <td>1.7</td>\n",
       "      <td>bortolami</td>\n",
       "      <td>0.6</td>\n",
       "      <td>thanou</td>\n",
       "      <td>3.1</td>\n",
       "      <td>kafer</td>\n",
       "      <td>0.8</td>\n",
       "    </tr>\n",
       "    <tr>\n",
       "      <th>4</th>\n",
       "      <td>world</td>\n",
       "      <td>12.6</td>\n",
       "      <td>sharapova</td>\n",
       "      <td>1.3</td>\n",
       "      <td>stade</td>\n",
       "      <td>0.6</td>\n",
       "      <td>doping</td>\n",
       "      <td>2.5</td>\n",
       "      <td>prize money</td>\n",
       "      <td>0.7</td>\n",
       "    </tr>\n",
       "    <tr>\n",
       "      <th>5</th>\n",
       "      <td>win</td>\n",
       "      <td>12.3</td>\n",
       "      <td>isinbayeva</td>\n",
       "      <td>1.2</td>\n",
       "      <td>harinordoquy</td>\n",
       "      <td>0.6</td>\n",
       "      <td>drugs</td>\n",
       "      <td>2.3</td>\n",
       "      <td>pattaya</td>\n",
       "      <td>0.7</td>\n",
       "    </tr>\n",
       "    <tr>\n",
       "      <th>6</th>\n",
       "      <td>team</td>\n",
       "      <td>11.9</td>\n",
       "      <td>mauresmo</td>\n",
       "      <td>1.0</td>\n",
       "      <td>valbon</td>\n",
       "      <td>0.5</td>\n",
       "      <td>conte</td>\n",
       "      <td>2.2</td>\n",
       "      <td>ind</td>\n",
       "      <td>0.7</td>\n",
       "    </tr>\n",
       "    <tr>\n",
       "      <th>7</th>\n",
       "      <td>players</td>\n",
       "      <td>11.5</td>\n",
       "      <td>capriati</td>\n",
       "      <td>1.0</td>\n",
       "      <td>half replacement</td>\n",
       "      <td>0.4</td>\n",
       "      <td>balco</td>\n",
       "      <td>1.8</td>\n",
       "      <td>aus</td>\n",
       "      <td>0.7</td>\n",
       "    </tr>\n",
       "    <tr>\n",
       "      <th>8</th>\n",
       "      <td>cup</td>\n",
       "      <td>11.4</td>\n",
       "      <td>holmes</td>\n",
       "      <td>1.0</td>\n",
       "      <td>imanol</td>\n",
       "      <td>0.4</td>\n",
       "      <td>charges</td>\n",
       "      <td>1.5</td>\n",
       "      <td>rod</td>\n",
       "      <td>0.6</td>\n",
       "    </tr>\n",
       "    <tr>\n",
       "      <th>9</th>\n",
       "      <td>play</td>\n",
       "      <td>11.4</td>\n",
       "      <td>maurice</td>\n",
       "      <td>1.0</td>\n",
       "      <td>gregory lamboley</td>\n",
       "      <td>0.4</td>\n",
       "      <td>tribunal</td>\n",
       "      <td>1.4</td>\n",
       "      <td>money women</td>\n",
       "      <td>0.6</td>\n",
       "    </tr>\n",
       "  </tbody>\n",
       "</table>\n",
       "</div>"
      ],
      "text/plain": [
       "  Topic 0 words Topic 0 weights  Topic 1 words Topic 1 weights  \\\n",
       "0          said            21.1          mirza             2.2   \n",
       "1       england            18.2        francis             2.0   \n",
       "2          game            13.8  lewis francis             2.0   \n",
       "3          year            13.6         greene             1.7   \n",
       "4         world            12.6      sharapova             1.3   \n",
       "5           win            12.3     isinbayeva             1.2   \n",
       "6          team            11.9       mauresmo             1.0   \n",
       "7       players            11.5       capriati             1.0   \n",
       "8           cup            11.4         holmes             1.0   \n",
       "9          play            11.4        maurice             1.0   \n",
       "\n",
       "      Topic 2 words Topic 2 weights Topic 3 words Topic 3 weights  \\\n",
       "0  stade toulousain             1.0      kenteris             3.5   \n",
       "1        toulousain             1.0          iaaf             3.1   \n",
       "2          bourgoin             0.6         greek             3.1   \n",
       "3         bortolami             0.6        thanou             3.1   \n",
       "4             stade             0.6        doping             2.5   \n",
       "5      harinordoquy             0.6         drugs             2.3   \n",
       "6            valbon             0.5         conte             2.2   \n",
       "7  half replacement             0.4         balco             1.8   \n",
       "8            imanol             0.4       charges             1.5   \n",
       "9  gregory lamboley             0.4      tribunal             1.4   \n",
       "\n",
       "  Topic 4 words Topic 4 weights  \n",
       "0        hingis             1.0  \n",
       "1         umaga             1.0  \n",
       "2      martinez             0.9  \n",
       "3         kafer             0.8  \n",
       "4   prize money             0.7  \n",
       "5       pattaya             0.7  \n",
       "6           ind             0.7  \n",
       "7           aus             0.7  \n",
       "8           rod             0.6  \n",
       "9   money women             0.6  "
      ]
     },
     "execution_count": 32,
     "metadata": {},
     "output_type": "execute_result"
    }
   ],
   "source": [
    "# We can also use the following function for this purpose:\n",
    "\n",
    "def display_topics(model, feature_names, no_top_words):\n",
    "    topic_dict = {}\n",
    "    for topic_idx, topic in enumerate(model.components_):\n",
    "        topic_dict[\"Topic %d words\" % (topic_idx)]= ['{}'.format(feature_names[i])\n",
    "                        for i in topic.argsort()[:-no_top_words - 1:-1]]\n",
    "        topic_dict[\"Topic %d weights\" % (topic_idx)]= ['{:.1f}'.format(topic[i])\n",
    "                        for i in topic.argsort()[:-no_top_words - 1:-1]]\n",
    "    return pd.DataFrame(topic_dict)\n",
    "\n",
    "\n",
    "no_top_words = 10\n",
    "display_topics(LDA, tfidf_vectorizer.get_feature_names(), no_top_words=no_top_words)"
   ]
  },
  {
   "cell_type": "markdown",
   "metadata": {},
   "source": [
    "Transform the learned topics into your data"
   ]
  },
  {
   "cell_type": "code",
   "execution_count": 33,
   "metadata": {},
   "outputs": [
    {
     "data": {
      "text/plain": [
       "(737, 5)"
      ]
     },
     "execution_count": 33,
     "metadata": {},
     "output_type": "execute_result"
    }
   ],
   "source": [
    "topic_values = LDA.transform(tfidf_matrix)\n",
    "topic_values.shape"
   ]
  },
  {
   "cell_type": "code",
   "execution_count": 34,
   "metadata": {},
   "outputs": [
    {
     "data": {
      "text/plain": [
       "array([[0.95297704, 0.01175449, 0.01175873, 0.01175444, 0.01175529],\n",
       "       [0.94455696, 0.01385469, 0.01387983, 0.0138542 , 0.01385432],\n",
       "       [0.94949035, 0.01264149, 0.01261802, 0.01263226, 0.01261788],\n",
       "       ...,\n",
       "       [0.92571628, 0.01857336, 0.01856985, 0.01857083, 0.01856967],\n",
       "       [0.4823713 , 0.48677254, 0.01028672, 0.01028405, 0.0102854 ],\n",
       "       [0.363303  , 0.01191515, 0.60094594, 0.01191983, 0.01191608]])"
      ]
     },
     "execution_count": 34,
     "metadata": {},
     "output_type": "execute_result"
    }
   ],
   "source": [
    "topic_values"
   ]
  },
  {
   "cell_type": "markdown",
   "metadata": {},
   "source": [
    "Finally, we will use the score function for LDA to calculate the log likelihood for your data, and compare two LDA models with 5 and 10 topics.\n",
    "\n",
    "Many procedures use the log of the likelihood, rather than the likelihood itself, because it is easier to work with. The log likelihood (i.e., the log of the likelihood) will always be negative, with **higher values** (closer to zero) **indicating a better fitting model**\n",
    "\n",
    "The best fit in this case is the model with **5 topics**"
   ]
  },
  {
   "cell_type": "code",
   "execution_count": 35,
   "metadata": {},
   "outputs": [
    {
     "name": "stdout",
     "output_type": "stream",
     "text": [
      "The log likelihood for the LDA model with 5 topics: -91498.09007139165\n",
      "The log likelihood for the LDA model with 10 topics: -106388.86181536067\n"
     ]
    }
   ],
   "source": [
    "LDA10 = LatentDirichletAllocation(n_components=10, random_state=321, evaluate_every=10)\n",
    "LDA10.fit(tfidf_matrix)\n",
    "\n",
    "print(\"The log likelihood for the LDA model with 5 topics:\", LDA.score(tfidf_matrix))\n",
    "print(\"The log likelihood for the LDA model with 10 topics:\", LDA10.score(tfidf_matrix))"
   ]
  }
 ],
 "metadata": {
  "kernelspec": {
   "display_name": "Python 3",
   "language": "python",
   "name": "python3"
  },
  "language_info": {
   "codemirror_mode": {
    "name": "ipython",
    "version": 3
   },
   "file_extension": ".py",
   "mimetype": "text/x-python",
   "name": "python",
   "nbconvert_exporter": "python",
   "pygments_lexer": "ipython3",
   "version": "3.8.2"
  }
 },
 "nbformat": 4,
 "nbformat_minor": 4
}
